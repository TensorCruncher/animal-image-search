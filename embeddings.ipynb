{
  "nbformat": 4,
  "nbformat_minor": 0,
  "metadata": {
    "colab": {
      "provenance": [],
      "authorship_tag": "ABX9TyOM9dZmnrlFPoNR8Bl+q47p",
      "include_colab_link": true
    },
    "kernelspec": {
      "name": "python3",
      "display_name": "Python 3"
    },
    "language_info": {
      "name": "python"
    }
  },
  "cells": [
    {
      "cell_type": "markdown",
      "metadata": {
        "id": "view-in-github",
        "colab_type": "text"
      },
      "source": [
        "<a href=\"https://colab.research.google.com/github/TensorCruncher/animal-image-search/blob/main/embeddings.ipynb\" target=\"_parent\"><img src=\"https://colab.research.google.com/assets/colab-badge.svg\" alt=\"Open In Colab\"/></a>"
      ]
    },
    {
      "cell_type": "markdown",
      "source": [
        "# Mount Drive, get image paths"
      ],
      "metadata": {
        "id": "UkR6VuXnqyEN"
      }
    },
    {
      "cell_type": "code",
      "execution_count": null,
      "metadata": {
        "id": "odtlIqQXhgIU"
      },
      "outputs": [],
      "source": [
        "import json\n",
        "from pathlib import Path\n",
        "from google.colab import drive\n",
        "from google.colab import files\n",
        "\n",
        "drive.mount('/content/drive')"
      ]
    },
    {
      "cell_type": "code",
      "source": [
        "root_dir = Path(\"/content/drive/MyDrive/animals\")\n",
        "\n",
        "image_paths = sorted(list(root_dir.glob(\"*/*.jpg\")))\n",
        "\n",
        "image_paths = [str(p) for p in image_paths]"
      ],
      "metadata": {
        "id": "C0Cs7feMpICW"
      },
      "execution_count": null,
      "outputs": []
    },
    {
      "cell_type": "code",
      "source": [
        "image_paths[:10]"
      ],
      "metadata": {
        "id": "dCnZHYk1pamC"
      },
      "execution_count": null,
      "outputs": []
    },
    {
      "cell_type": "code",
      "source": [
        "len(image_paths)"
      ],
      "metadata": {
        "id": "5jYPxxaJpGOf"
      },
      "execution_count": null,
      "outputs": []
    },
    {
      "cell_type": "code",
      "source": [
        "with open(\"image_paths.json\", \"w\") as f:\n",
        "  json.dump(image_paths, f)"
      ],
      "metadata": {
        "id": "MRlQRyNI9DSk"
      },
      "execution_count": null,
      "outputs": []
    },
    {
      "cell_type": "code",
      "source": [
        "files.download(\"image_paths.json\")"
      ],
      "metadata": {
        "id": "gu0vOAWA97FT"
      },
      "execution_count": null,
      "outputs": []
    },
    {
      "cell_type": "markdown",
      "source": [
        "# Create Embeddings"
      ],
      "metadata": {
        "id": "1mNGioNyp1CN"
      }
    },
    {
      "cell_type": "code",
      "source": [
        "!pip install open-clip-torch torchvision -q"
      ],
      "metadata": {
        "id": "JAvzkSjWpnoa"
      },
      "execution_count": null,
      "outputs": []
    },
    {
      "cell_type": "code",
      "source": [
        "import torch\n",
        "import open_clip\n",
        "import numpy as np\n",
        "\n",
        "from PIL import Image\n",
        "from tqdm import tqdm"
      ],
      "metadata": {
        "id": "mjyXFqt6qKF-"
      },
      "execution_count": null,
      "outputs": []
    },
    {
      "cell_type": "code",
      "source": [
        "device = \"cuda\" if torch.cuda.is_available() else \"cpu\"\n",
        "device"
      ],
      "metadata": {
        "id": "p0fJ75LwRa2j"
      },
      "execution_count": null,
      "outputs": []
    },
    {
      "cell_type": "code",
      "source": [
        "model, _, preprocess = open_clip.create_model_and_transforms('ViT-B-32', pretrained='laion2b_s34b_b79k')"
      ],
      "metadata": {
        "id": "OWHIocVcPd2Y"
      },
      "execution_count": null,
      "outputs": []
    },
    {
      "cell_type": "code",
      "source": [
        "from tqdm import tqdm\n",
        "\n",
        "batch_size = 64\n",
        "image_embeddings_list = []\n",
        "\n",
        "model.to(device)\n",
        "model.eval()\n",
        "\n",
        "with torch.no_grad():\n",
        "    for i in tqdm(range(0, len(image_paths), batch_size)):\n",
        "        batch_paths = image_paths[i:i+batch_size]\n",
        "\n",
        "        batch_tensors = []\n",
        "        for p in batch_paths:\n",
        "            img = Image.open(p).convert(\"RGB\")\n",
        "            tensor = preprocess(img).unsqueeze(0)\n",
        "            batch_tensors.append(tensor)\n",
        "\n",
        "        image_input = torch.cat(batch_tensors, dim=0).to(device)\n",
        "        batch_embeddings = model.encode_image(image_input)\n",
        "        batch_embeddings = batch_embeddings / batch_embeddings.norm(dim=-1, keepdim=True)\n",
        "\n",
        "        image_embeddings_list.append(batch_embeddings.cpu())\n",
        "\n",
        "image_embeddings = torch.cat(image_embeddings_list, dim=0)\n",
        "image_embeddings_np = image_embeddings.numpy()\n"
      ],
      "metadata": {
        "id": "SKsez7AMZ608"
      },
      "execution_count": null,
      "outputs": []
    },
    {
      "cell_type": "code",
      "source": [
        "np.save(\"image_embeddings.npy\", image_embeddings_np)\n",
        "files.download(\"image_embeddings.npy\")"
      ],
      "metadata": {
        "id": "wR8RBjR_UPDO"
      },
      "execution_count": null,
      "outputs": []
    }
  ]
}